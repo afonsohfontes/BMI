{
 "cells": [
  {
   "cell_type": "code",
   "execution_count": 1,
   "id": "98ea3317",
   "metadata": {},
   "outputs": [
    {
     "name": "stdout",
     "output_type": "stream",
     "text": [
      "Requirement already satisfied: pytest in /usr/local/Cellar/jupyterlab/3.0.14/libexec/lib/python3.9/site-packages (6.2.3)\n",
      "Requirement already satisfied: py>=1.8.2 in /usr/local/Cellar/jupyterlab/3.0.14/libexec/lib/python3.9/site-packages (from pytest) (1.10.0)\n",
      "Requirement already satisfied: packaging in /usr/local/Cellar/jupyterlab/3.0.14/libexec/lib/python3.9/site-packages (from pytest) (20.9)\n",
      "Requirement already satisfied: attrs>=19.2.0 in /usr/local/Cellar/jupyterlab/3.0.14/libexec/lib/python3.9/site-packages (from pytest) (20.3.0)\n",
      "Requirement already satisfied: pluggy<1.0.0a1,>=0.12 in /usr/local/Cellar/jupyterlab/3.0.14/libexec/lib/python3.9/site-packages (from pytest) (0.13.1)\n",
      "Requirement already satisfied: iniconfig in /usr/local/Cellar/jupyterlab/3.0.14/libexec/lib/python3.9/site-packages (from pytest) (1.1.1)\n",
      "Requirement already satisfied: toml in /usr/local/Cellar/jupyterlab/3.0.14/libexec/lib/python3.9/site-packages (from pytest) (0.10.2)\n",
      "Requirement already satisfied: pyparsing>=2.0.2 in /usr/local/Cellar/jupyterlab/3.0.14/libexec/lib/python3.9/site-packages (from packaging->pytest) (2.4.7)\n",
      "\u001b[33mWARNING: You are using pip version 21.0.1; however, version 21.1.1 is available.\n",
      "You should consider upgrading via the '/usr/local/Cellar/jupyterlab/3.0.14/libexec/bin/python3.9 -m pip install --upgrade pip' command.\u001b[0m\n",
      "Note: you may need to restart the kernel to use updated packages.\n"
     ]
    }
   ],
   "source": [
    "pip install pytest"
   ]
  },
  {
   "cell_type": "code",
   "execution_count": 5,
   "id": "af17975a",
   "metadata": {},
   "outputs": [
    {
     "name": "stdout",
     "output_type": "stream",
     "text": [
      "Requirement already satisfied: coverage in /usr/local/Cellar/jupyterlab/3.0.14/libexec/lib/python3.9/site-packages (5.5)\n",
      "\u001b[33mWARNING: You are using pip version 21.0.1; however, version 21.1.1 is available.\n",
      "You should consider upgrading via the '/usr/local/Cellar/jupyterlab/3.0.14/libexec/bin/python3.9 -m pip install --upgrade pip' command.\u001b[0m\n",
      "Note: you may need to restart the kernel to use updated packages.\n"
     ]
    }
   ],
   "source": [
    "pip install coverage"
   ]
  },
  {
   "cell_type": "code",
   "execution_count": 11,
   "id": "3c7b56f9",
   "metadata": {},
   "outputs": [
    {
     "name": "stdout",
     "output_type": "stream",
     "text": [
      "============================= test session starts ==============================\n",
      "platform darwin -- Python 3.9.4, pytest-6.2.3, py-1.10.0, pluggy-0.13.1 -- /usr/local/opt/python@3.9/bin/python3.9\n",
      "cachedir: .pytest_cache\n",
      "rootdir: /Users/afonsofo/Desktop/BMI\n",
      "collecting ... collected 2 items\n",
      "\n",
      "test_simpleBMI.py::test_calculateBMI PASSED                              [ 50%]\n",
      "test_simpleBMI.py::test_classifyBMI PASSED                               [100%]\n",
      "\n",
      "============================== 2 passed in 0.01s ===============================\n"
     ]
    }
   ],
   "source": [
    "%%bash\n",
    "pytest -v"
   ]
  },
  {
   "cell_type": "code",
   "execution_count": 12,
   "id": "3f36e705",
   "metadata": {},
   "outputs": [
    {
     "name": "stdout",
     "output_type": "stream",
     "text": [
      "Name                Stmts   Miss  Cover\n",
      "---------------------------------------\n",
      "test_simpleBMI.py       9      6    33%\n",
      "---------------------------------------\n",
      "TOTAL                   9      6    33%\n"
     ]
    }
   ],
   "source": [
    "%%bash\n",
    "coverage run test_simpleBMI.py\n",
    "coverage report test_simpleBMI.py"
   ]
  },
  {
   "cell_type": "code",
   "execution_count": null,
   "id": "a05e5f0f",
   "metadata": {},
   "outputs": [],
   "source": []
  }
 ],
 "metadata": {
  "kernelspec": {
   "display_name": "Python 3",
   "language": "python",
   "name": "python3"
  },
  "language_info": {
   "codemirror_mode": {
    "name": "ipython",
    "version": 3
   },
   "file_extension": ".py",
   "mimetype": "text/x-python",
   "name": "python",
   "nbconvert_exporter": "python",
   "pygments_lexer": "ipython3",
   "version": "3.9.4"
  }
 },
 "nbformat": 4,
 "nbformat_minor": 5
}
